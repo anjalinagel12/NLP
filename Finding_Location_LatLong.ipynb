{
  "nbformat": 4,
  "nbformat_minor": 0,
  "metadata": {
    "kernelspec": {
      "display_name": "Python 3",
      "language": "python",
      "name": "python3"
    },
    "language_info": {
      "codemirror_mode": {
        "name": "ipython",
        "version": 3
      },
      "file_extension": ".py",
      "mimetype": "text/x-python",
      "name": "python",
      "nbconvert_exporter": "python",
      "pygments_lexer": "ipython3",
      "version": "3.6.8"
    },
    "colab": {
      "name": "Finding Location LatLong.ipynb",
      "provenance": [],
      "collapsed_sections": [],
      "include_colab_link": true
    }
  },
  "cells": [
    {
      "cell_type": "markdown",
      "metadata": {
        "id": "view-in-github",
        "colab_type": "text"
      },
      "source": [
        "<a href=\"https://colab.research.google.com/github/anjalinagel12/NLP/blob/master/Finding_Location_LatLong.ipynb\" target=\"_parent\"><img src=\"https://colab.research.google.com/assets/colab-badge.svg\" alt=\"Open In Colab\"/></a>"
      ]
    },
    {
      "cell_type": "markdown",
      "metadata": {
        "id": "b7OcJ741uxnq",
        "colab_type": "text"
      },
      "source": [
        "#Install Dependencies"
      ]
    },
    {
      "cell_type": "code",
      "metadata": {
        "id": "W7WwC_cSzeKe",
        "colab_type": "code",
        "colab": {}
      },
      "source": [
        "!pip install geopy --quiet"
      ],
      "execution_count": 0,
      "outputs": []
    },
    {
      "cell_type": "code",
      "metadata": {
        "id": "zMpuneiCyPFe",
        "colab_type": "code",
        "colab": {}
      },
      "source": [
        "#import dependent libraries\n",
        "from geopy.geocoders import Nominatim\n",
        "geolocator = Nominatim(user_agent=\"ysi_tutorial\")"
      ],
      "execution_count": 0,
      "outputs": []
    },
    {
      "cell_type": "markdown",
      "metadata": {
        "id": "3ZFw8o0-O2vw",
        "colab_type": "text"
      },
      "source": [
        "##Explain and experiment with Geocoding:-\n",
        "Other examples of Geocoding with different Location names\n",
        "We can test whether or not our model will be able to find the names that we want by changing any of the names here.\n",
        "\n",
        "Ideally we want to test our queries for location directly from here."
      ]
    },
    {
      "cell_type": "code",
      "metadata": {
        "id": "6pE5YeBZyPGv",
        "colab_type": "code",
        "outputId": "5a021998-a5a6-4096-8ff3-60a4f7d1a36a",
        "colab": {
          "base_uri": "https://localhost:8080/",
          "height": 34
        }
      },
      "source": [
        "print(geolocator.geocode(\"HSR Layout\").latitude, geolocator.geocode(\"HSR Layout\").longitude)\n",
        "# print(geolocator.geocode(\"HSR Layout\").raw)  # From address\n",
        "# print(geolocator.geocode(\"BEML Layout\").address)  # From address\n",
        "# print(geolocator.geocode(\"AECS Layout\").address)  # From address\n",
        "# print(geolocator.geocode(\"BTM Layout\").address)  # From address\n",
        "# print(geolocator.geocode(\"Indiranagar\").address)  # From address\n",
        "# print(geolocator.geocode(\"Bellandur\").address)  # From address\n",
        "# print(geolocator.geocode(\"Marathahalli\").address)  # From address\n",
        "# print(geolocator.geocode(\"Electronic City\").address)  # From address\n",
        "# print(geolocator.geocode(\"Electronic City Bengaluru\").address)  # From address\n"
      ],
      "execution_count": 0,
      "outputs": [
        {
          "output_type": "stream",
          "text": [
            "12.9116225 77.6388622\n"
          ],
          "name": "stdout"
        }
      ]
    },
    {
      "cell_type": "code",
      "metadata": {
        "id": "DasgCpETUqGw",
        "colab_type": "code",
        "outputId": "10ea4d3d-58d4-4d20-9e56-b42621f5e5c1",
        "colab": {
          "base_uri": "https://localhost:8080/",
          "height": 105
        }
      },
      "source": [
        "location = geolocator.geocode(\"HSR Layout\")\n",
        "print(location.address)\n",
        "#HSR Layout, Bommanahalli Zone, Bengaluru, Bangalore South, Bangalore Urban, Karnataka, PINATA, India\n",
        "print((location.latitude, location.longitude))\n",
        "#(12.9116225, 77.6388622)\n",
        "\n",
        "print(location.raw)\n",
        "#{'place_id': 4095278, 'licence': 'Data © OpenStreetMap contributors, ODbL 1.0. https://osm.org/copyright', 'osm_type': 'node', 'osm_id': 456016994, 'boundingbox': ['12.8916225', '12.9316225', '77.6188622', '77.6588622'], 'lat': '12.9116225', 'lon': '77.6388622', 'display_name': 'HSR Layout, Bommanahalli Zone, Bengaluru, Bangalore South, Bangalore Urban, Karnataka, PINATA, India', 'class': 'place', 'type': 'suburb', 'importance': 0.45, 'icon': 'https://nominatim.openstreetmap.org/images/mapicons/poi_place_village.p.20.png'}\n",
        "\n",
        "print(location.address)"
      ],
      "execution_count": 0,
      "outputs": [
        {
          "output_type": "stream",
          "text": [
            "HSR Layout, Bommanahalli Zone, Bengaluru, Bangalore South, Bangalore Urban, Karnataka, PINATA, India\n",
            "(12.9116225, 77.6388622)\n",
            "{'place_id': 4095278, 'licence': 'Data © OpenStreetMap contributors, ODbL 1.0. https://osm.org/copyright', 'osm_type': 'node', 'osm_id': 456016994, 'boundingbox': ['12.8916225', '12.9316225', '77.6188622', '77.6588622'], 'lat': '12.9116225', 'lon': '77.6388622', 'display_name': 'HSR Layout, Bommanahalli Zone, Bengaluru, Bangalore South, Bangalore Urban, Karnataka, PINATA, India', 'class': 'place', 'type': 'suburb', 'importance': 0.45, 'icon': 'https://nominatim.openstreetmap.org/images/mapicons/poi_place_village.p.20.png'}\n",
            "HSR Layout, Bommanahalli Zone, Bengaluru, Bangalore South, Bangalore Urban, Karnataka, PINATA, India\n"
          ],
          "name": "stdout"
        }
      ]
    },
    {
      "cell_type": "code",
      "metadata": {
        "id": "Xb_V6t82VFAS",
        "colab_type": "code",
        "outputId": "f17054d6-1f77-4404-d84a-c792267ca1e8",
        "colab": {
          "base_uri": "https://localhost:8080/",
          "height": 88
        }
      },
      "source": [
        "location = geolocator.geocode(\"BTM Layout\")\n",
        "print(location.address)\n",
        "print((location.latitude, location.longitude))\n",
        "print(location.raw)\n",
        "\n",
        "#BTM Layout, South Zone, Bengaluru, Bangalore South, Bangalore Urban, Karnataka, - 560034, India\n",
        "#(12.9151772, 77.6102821)\n",
        "#{'place_id': 4022631, 'licence': 'Data © OpenStreetMap contributors, ODbL 1.0. https://osm.org/copyright', 'osm_type': 'node', 'osm_id': 447032046, 'boundingbox': ['12.8951772', '12.9351772', '77.5902821', '77.6302821'], 'lat': '12.9151772', 'lon': '77.6102821', 'display_name': 'BTM Layout, South Zone, Bengaluru, Bangalore South, Bangalore Urban, Karnataka, - 560034, India', 'class': 'place', 'type': 'suburb', 'importance': 0.45, 'icon': 'https://nominatim.openstreetmap.org/images/mapicons/poi_place_village.p.20.png'}\n"
      ],
      "execution_count": 0,
      "outputs": [
        {
          "output_type": "stream",
          "text": [
            "BTM Layout, South Zone, Bengaluru, Bangalore South, Bangalore Urban, Karnataka, - 560034, India\n",
            "(12.9151772, 77.6102821)\n",
            "{'place_id': 4022631, 'licence': 'Data © OpenStreetMap contributors, ODbL 1.0. https://osm.org/copyright', 'osm_type': 'node', 'osm_id': 447032046, 'boundingbox': ['12.8951772', '12.9351772', '77.5902821', '77.6302821'], 'lat': '12.9151772', 'lon': '77.6102821', 'display_name': 'BTM Layout, South Zone, Bengaluru, Bangalore South, Bangalore Urban, Karnataka, - 560034, India', 'class': 'place', 'type': 'suburb', 'importance': 0.45, 'icon': 'https://nominatim.openstreetmap.org/images/mapicons/poi_place_village.p.20.png'}\n"
          ],
          "name": "stdout"
        }
      ]
    },
    {
      "cell_type": "code",
      "metadata": {
        "colab_type": "code",
        "id": "g71wKRU7VTE-",
        "outputId": "7605c91f-b5d6-47d8-9ed3-3ab27203652b",
        "colab": {
          "base_uri": "https://localhost:8080/",
          "height": 88
        }
      },
      "source": [
        "location = geolocator.geocode(\"Indiranagar\")\n",
        "print(location.address)\n",
        "print((location.latitude, location.longitude))\n",
        "print(location.raw)\n",
        "\n",
        "#Indiranagar, East Zone, Bengaluru, Bangalore East, Bangalore Urban, Karnataka, 560038, India\n",
        "#(12.9732913, 77.6404672)\n",
        "#{'place_id': 4123761, 'licence': 'Data © OpenStreetMap contributors, ODbL 1.0. https://osm.org/copyright', 'osm_type': 'node', 'osm_id': 448991617, 'boundingbox': ['12.9532913', '12.9932913', '77.6204672', '77.6604672'], 'lat': '12.9732913', 'lon': '77.6404672', 'display_name': 'Indiranagar, East Zone, Bengaluru, Bangalore East, Bangalore Urban, Karnataka, 560038, India', 'class': 'place', 'type': 'suburb', 'importance': 0.48168560245017655, 'icon': 'https://nominatim.openstreetmap.org/images/mapicons/poi_place_village.p.20.png'}\n"
      ],
      "execution_count": 0,
      "outputs": [
        {
          "output_type": "stream",
          "text": [
            "Indiranagar, East Zone, Bengaluru, Bangalore East, Bangalore Urban, Karnataka, 560038, India\n",
            "(12.9732913, 77.6404672)\n",
            "{'place_id': 4123761, 'licence': 'Data © OpenStreetMap contributors, ODbL 1.0. https://osm.org/copyright', 'osm_type': 'node', 'osm_id': 448991617, 'boundingbox': ['12.9532913', '12.9932913', '77.6204672', '77.6604672'], 'lat': '12.9732913', 'lon': '77.6404672', 'display_name': 'Indiranagar, East Zone, Bengaluru, Bangalore East, Bangalore Urban, Karnataka, 560038, India', 'class': 'place', 'type': 'suburb', 'importance': 0.48168560245017655, 'icon': 'https://nominatim.openstreetmap.org/images/mapicons/poi_place_village.p.20.png'}\n"
          ],
          "name": "stdout"
        }
      ]
    },
    {
      "cell_type": "code",
      "metadata": {
        "id": "R2POTXoPWlqT",
        "colab_type": "code",
        "outputId": "e0f139e3-2c37-445c-f616-3a92f269e429",
        "colab": {
          "base_uri": "https://localhost:8080/",
          "height": 88
        }
      },
      "source": [
        "location = geolocator.geocode(\"muzaffarpur\")\n",
        "print(location.address)\n",
        "#National Public School Kormangala, 80 Feet Road, Ejipura, East Zone, Bengaluru, Bangalore South, Bangalore Urban, Karnataka, 560047, India\n",
        "print((location.latitude, location.longitude))\n",
        "#(12.949299400000001, 77.62115258241755)\n",
        "print(location.raw)\n",
        "#{'place_id': 186992634, 'licence': 'Data © OpenStreetMap contributors, ODbL 1.0. https://osm.org/copyright', 'osm_type': 'way', 'osm_id': 441572865, 'boundingbox': ['12.9485454', '12.9500209', '77.6204925', '77.6220101'], 'lat': '12.949299400000001', 'lon': '77.62115258241755', 'display_name': 'National Public School Kormangala, 80 Feet Road, Ejipura, East Zone, Bengaluru, Bangalore South, Bangalore Urban, Karnataka, 560047, India', 'class': 'amenity', 'type': 'school', 'importance': 0.295871082899258, 'icon': 'https://nominatim.openstreetmap.org/images/mapicons/education_school.p.20.png'}"
      ],
      "execution_count": 0,
      "outputs": [
        {
          "output_type": "stream",
          "text": [
            "Muzaffarpur, Bihar, India\n",
            "(26.1486581, 85.34001282479626)\n",
            "{'place_id': 235715606, 'licence': 'Data © OpenStreetMap contributors, ODbL 1.0. https://osm.org/copyright', 'osm_type': 'relation', 'osm_id': 1960284, 'boundingbox': ['25.9035103', '26.3931791', '84.8727965', '85.763762'], 'lat': '26.1486581', 'lon': '85.34001282479626', 'display_name': 'Muzaffarpur, Bihar, India', 'class': 'boundary', 'type': 'administrative', 'importance': 0.654918718259596, 'icon': 'https://nominatim.openstreetmap.org/images/mapicons/poi_boundary_administrative.p.20.png'}\n"
          ],
          "name": "stdout"
        }
      ]
    },
    {
      "cell_type": "markdown",
      "metadata": {
        "id": "qPz28h6kJTqP",
        "colab_type": "text"
      },
      "source": [
        "##Google Place API\n",
        "\n"
      ]
    },
    {
      "cell_type": "code",
      "metadata": {
        "id": "5jRJ3vFm5VvD",
        "colab_type": "code",
        "colab": {}
      },
      "source": [
        "link='https://maps.googleapis.com/maps/api/place/nearbysearch/json?location=13.016593,77.680397&radius=5000&keyword=bloodbank&sensor=true&key=<GooglePlaceAPI>'\n"
      ],
      "execution_count": 0,
      "outputs": []
    },
    {
      "cell_type": "code",
      "metadata": {
        "id": "OqfbEjsb50Cj",
        "colab_type": "code",
        "outputId": "1ac02259-2f33-4912-8273-29f55c4caeb2",
        "colab": {
          "base_uri": "https://localhost:8080/",
          "height": 54
        }
      },
      "source": [
        "'''\n",
        "{\n",
        "   \"html_attributions\" : [],\n",
        "   \"results\" : [\n",
        "      {\n",
        "         \"business_status\" : \"OPERATIONAL\",\n",
        "         \"geometry\" : {\n",
        "            \"location\" : {\n",
        "               \"lat\" : 12.9718078,\n",
        "               \"lng\" : 77.6566615\n",
        "            },\n",
        "            \"viewport\" : {\n",
        "               \"northeast\" : {\n",
        "                  \"lat\" : 12.97327887989272,\n",
        "                  \"lng\" : 77.65807592989272\n",
        "               },\n",
        "               \"southwest\" : {\n",
        "                  \"lat\" : 12.97057922010728,\n",
        "                  \"lng\" : 77.65537627010727\n",
        "               }\n",
        "            }\n",
        "         },\n",
        "         \"icon\" : \"https://maps.gstatic.com/mapfiles/place_api/icons/generic_business-71.png\",\n",
        "         \"id\" : \"39c102bf95087b5f3a78766a6b9cfa679b546d79\",\n",
        "         \"name\" : \"Bangalore Medical Services Trust\",\n",
        "         \"opening_hours\" : {\n",
        "            \"open_now\" : true\n",
        "         },\n",
        "         \"photos\" : [\n",
        "            {\n",
        "               \"height\" : 3000,\n",
        "               \"html_attributions\" : [\n",
        "                  \"\\u003ca href=\\\"https://maps.google.com/maps/contrib/106886810819347778756\\\"\\u003epardeep kumar\\u003c/a\\u003e\"\n",
        "               ],\n",
        "               \"photo_reference\" : \"CmRaAAAABcbJJe52OiqkBJZet7o53-bDqseTQb3dVEcl08H4is9dLBdo4FRjE5j8tXht7pAlraJ4_t-zv9xO5vBlbBD0z_HCYDjWfP7HpXkChSHebL5B7K-ZDKuQH28ZS0IWSSViEhC7KqaE9GJqUYouE_uRB4bcGhS3tX8f4H1K_BxiPnEXcTxJWOtmIQ\",\n",
        "               \"width\" : 4000\n",
        "            }\n",
        "         ],\n",
        "         \"place_id\" : \"ChIJ27d9ClURrjsRDQMasTQCfWA\",\n",
        "         \"plus_code\" : {\n",
        "            \"compound_code\" : \"XMC4+PM Bengaluru, Karnataka\",\n",
        "            \"global_code\" : \"7J4VXMC4+PM\"\n",
        "         },\n",
        "         \"rating\" : 4,\n",
        "         \"reference\" : \"ChIJ27d9ClURrjsRDQMasTQCfWA\",\n",
        "         \"scope\" : \"GOOGLE\",\n",
        "         \"types\" : [ \"health\", \"point_of_interest\", \"establishment\" ],\n",
        "         \"user_ratings_total\" : 79,\n",
        "         \"vicinity\" : \"New Thippasandra Main Road, HAL 3rd Stage, New Thippasandra, beside Thippasandra Post Office, Bengaluru\"\n",
        "      },\n",
        "      {\n",
        "         \"business_status\" : \"OPERATIONAL\",\n",
        "         \"geometry\" : {\n",
        "            \"location\" : {\n",
        "               \"lat\" : 12.9780954,\n",
        "               \"lng\" : 77.638582\n",
        "            },\n",
        "            \"viewport\" : {\n",
        "               \"northeast\" : {\n",
        "                  \"lat\" : 12.97951237989272,\n",
        "                  \"lng\" : 77.63993007989272\n",
        "               },\n",
        "               \"southwest\" : {\n",
        "                  \"lat\" : 12.97681272010728,\n",
        "                  \"lng\" : 77.63723042010727\n",
        "               }\n",
        "            }\n",
        "         },\n",
        "         \"icon\" : \"https://maps.gstatic.com/mapfiles/place_api/icons/generic_business-71.png\",\n",
        "         \"id\" : \"5ab53ae7b0bd267bfc1a7e99c34ffe10b3943664\",\n",
        "         \"name\" : \"State Chemicals Laboratory Blood Bank Limited\",\n",
        "         \"photos\" : [\n",
        "            {\n",
        "               \"height\" : 4608,\n",
        "               \"html_attributions\" : [\n",
        "                  \"\\u003ca href=\\\"https://maps.google.com/maps/contrib/116123724386210247950\\\"\\u003eManjunatha K Nayak\\u003c/a\\u003e\"\n",
        "               ],\n",
        "               \"photo_reference\" : \"CmRaAAAAjL8p4uefu93FkNH2otF676diE6EIRPacNnDru0IxkNLa7y6vVJwoluntveqdxPsICovwGB3Wghgc5BpEizikS1ugNsylrF2QuWnjGUpxbXDtfNyYnW1mrocRoswlqLdJEhDb63NKRtbyh--nPOtZdJq0GhTfeLfEZjVnDg84a41LROeGrMSoFQ\",\n",
        "               \"width\" : 2592\n",
        "            }\n",
        "         ],\n",
        "         \"place_id\" : \"ChIJ92CvqK8WrjsRcsbN4R71TuE\",\n",
        "         \"rating\" : 1,\n",
        "         \"reference\" : \"ChIJ92CvqK8WrjsRcsbN4R71TuE\",\n",
        "         \"scope\" : \"GOOGLE\",\n",
        "         \"types\" : [ \"health\", \"point_of_interest\", \"establishment\" ],\n",
        "         \"user_ratings_total\" : 1,\n",
        "         \"vicinity\" : \"3, Cmhrd, Indiranagar, Indiranagar, Bengaluru\"\n",
        "      },\n",
        "      {\n",
        "         \"business_status\" : \"OPERATIONAL\",\n",
        "         \"geometry\" : {\n",
        "            \"location\" : {\n",
        "               \"lat\" : 13.0084558,\n",
        "               \"lng\" : 77.69590629999999\n",
        "            },\n",
        "            \"viewport\" : {\n",
        "               \"northeast\" : {\n",
        "                  \"lat\" : 13.00981722989272,\n",
        "                  \"lng\" : 77.69724962989272\n",
        "               },\n",
        "               \"southwest\" : {\n",
        "                  \"lat\" : 13.00711757010728,\n",
        "                  \"lng\" : 77.69454997010727\n",
        "               }\n",
        "            }\n",
        "         },\n",
        "         \"icon\" : \"https://maps.gstatic.com/mapfiles/place_api/icons/generic_business-71.png\",\n",
        "         \"id\" : \"1b3b86fcafa6db3197f55afea1a279cc509a218e\",\n",
        "         \"name\" : \"Precious Blood Massionaries Virgo Nagar\",\n",
        "         \"place_id\" : \"ChIJ7aEVwZkRrjsR802B9RR1aYQ\",\n",
        "         \"plus_code\" : {\n",
        "            \"compound_code\" : \"2M5W+99 Krishnarajapura, Bengaluru, Karnataka\",\n",
        "            \"global_code\" : \"7J5V2M5W+99\"\n",
        "         },\n",
        "         \"rating\" : 0,\n",
        "         \"reference\" : \"ChIJ7aEVwZkRrjsR802B9RR1aYQ\",\n",
        "         \"scope\" : \"GOOGLE\",\n",
        "         \"types\" : [ \"health\", \"point_of_interest\", \"establishment\" ],\n",
        "         \"user_ratings_total\" : 0,\n",
        "         \"vicinity\" : \"NH75, Devasandra Extension, Krishnarajapura, Bengaluru\"\n",
        "      },\n",
        "      {\n",
        "         \"business_status\" : \"OPERATIONAL\",\n",
        "         \"geometry\" : {\n",
        "            \"location\" : {\n",
        "               \"lat\" : 13.010322,\n",
        "               \"lng\" : 77.6716861\n",
        "            },\n",
        "            \"viewport\" : {\n",
        "               \"northeast\" : {\n",
        "                  \"lat\" : 13.01167227989272,\n",
        "                  \"lng\" : 77.67304572989272\n",
        "               },\n",
        "               \"southwest\" : {\n",
        "                  \"lat\" : 13.00897262010728,\n",
        "                  \"lng\" : 77.67034607010727\n",
        "               }\n",
        "            }\n",
        "         },\n",
        "         \"icon\" : \"https://maps.gstatic.com/mapfiles/place_api/icons/generic_business-71.png\",\n",
        "         \"id\" : \"f15ebd0020099064baa53f5c7aaa6ba1d8ad6d2c\",\n",
        "         \"name\" : \"blooddonorsinfo.com\",\n",
        "         \"opening_hours\" : {},\n",
        "         \"place_id\" : \"ChIJPXT44iMRrjsRVbACjwu6yrk\",\n",
        "         \"plus_code\" : {\n",
        "            \"compound_code\" : \"2M6C+4M Bengaluru, Karnataka\",\n",
        "            \"global_code\" : \"7J5V2M6C+4M\"\n",
        "         },\n",
        "         \"rating\" : 3.7,\n",
        "         \"reference\" : \"ChIJPXT44iMRrjsRVbACjwu6yrk\",\n",
        "         \"scope\" : \"GOOGLE\",\n",
        "         \"types\" : [ \"health\", \"point_of_interest\", \"establishment\" ],\n",
        "         \"user_ratings_total\" : 3,\n",
        "         \"vicinity\" : \"33, Bhavani Street, 2nd Cross, Ram Murthy Nagar, Bengaluru\"\n",
        "      }\n",
        "   ],\n",
        "   \"status\" : \"OK\"\n",
        "}\n",
        "'''"
      ],
      "execution_count": 0,
      "outputs": [
        {
          "output_type": "execute_result",
          "data": {
            "text/plain": [
              "'\\n{\\n   \"html_attributions\" : [],\\n   \"results\" : [\\n      {\\n         \"business_status\" : \"OPERATIONAL\",\\n         \"geometry\" : {\\n            \"location\" : {\\n               \"lat\" : 12.9718078,\\n               \"lng\" : 77.6566615\\n            },\\n            \"viewport\" : {\\n               \"northeast\" : {\\n                  \"lat\" : 12.97327887989272,\\n                  \"lng\" : 77.65807592989272\\n               },\\n               \"southwest\" : {\\n                  \"lat\" : 12.97057922010728,\\n                  \"lng\" : 77.65537627010727\\n               }\\n            }\\n         },\\n         \"icon\" : \"https://maps.gstatic.com/mapfiles/place_api/icons/generic_business-71.png\",\\n         \"id\" : \"39c102bf95087b5f3a78766a6b9cfa679b546d79\",\\n         \"name\" : \"Bangalore Medical Services Trust\",\\n         \"opening_hours\" : {\\n            \"open_now\" : true\\n         },\\n         \"photos\" : [\\n            {\\n               \"height\" : 3000,\\n               \"html_attributions\" : [\\n                  \"<a href=\"https://maps.google.com/maps/contrib/106886810819347778756\">pardeep kumar</a>\"\\n               ],\\n               \"photo_reference\" : \"CmRaAAAABcbJJe52OiqkBJZet7o53-bDqseTQb3dVEcl08H4is9dLBdo4FRjE5j8tXht7pAlraJ4_t-zv9xO5vBlbBD0z_HCYDjWfP7HpXkChSHebL5B7K-ZDKuQH28ZS0IWSSViEhC7KqaE9GJqUYouE_uRB4bcGhS3tX8f4H1K_BxiPnEXcTxJWOtmIQ\",\\n               \"width\" : 4000\\n            }\\n         ],\\n         \"place_id\" : \"ChIJ27d9ClURrjsRDQMasTQCfWA\",\\n         \"plus_code\" : {\\n            \"compound_code\" : \"XMC4+PM Bengaluru, Karnataka\",\\n            \"global_code\" : \"7J4VXMC4+PM\"\\n         },\\n         \"rating\" : 4,\\n         \"reference\" : \"ChIJ27d9ClURrjsRDQMasTQCfWA\",\\n         \"scope\" : \"GOOGLE\",\\n         \"types\" : [ \"health\", \"point_of_interest\", \"establishment\" ],\\n         \"user_ratings_total\" : 79,\\n         \"vicinity\" : \"New Thippasandra Main Road, HAL 3rd Stage, New Thippasandra, beside Thippasandra Post Office, Bengaluru\"\\n      },\\n      {\\n         \"business_status\" : \"OPERATIONAL\",\\n         \"geometry\" : {\\n            \"location\" : {\\n               \"lat\" : 12.9780954,\\n               \"lng\" : 77.638582\\n            },\\n            \"viewport\" : {\\n               \"northeast\" : {\\n                  \"lat\" : 12.97951237989272,\\n                  \"lng\" : 77.63993007989272\\n               },\\n               \"southwest\" : {\\n                  \"lat\" : 12.97681272010728,\\n                  \"lng\" : 77.63723042010727\\n               }\\n            }\\n         },\\n         \"icon\" : \"https://maps.gstatic.com/mapfiles/place_api/icons/generic_business-71.png\",\\n         \"id\" : \"5ab53ae7b0bd267bfc1a7e99c34ffe10b3943664\",\\n         \"name\" : \"State Chemicals Laboratory Blood Bank Limited\",\\n         \"photos\" : [\\n            {\\n               \"height\" : 4608,\\n               \"html_attributions\" : [\\n                  \"<a href=\"https://maps.google.com/maps/contrib/116123724386210247950\">Manjunatha K Nayak</a>\"\\n               ],\\n               \"photo_reference\" : \"CmRaAAAAjL8p4uefu93FkNH2otF676diE6EIRPacNnDru0IxkNLa7y6vVJwoluntveqdxPsICovwGB3Wghgc5BpEizikS1ugNsylrF2QuWnjGUpxbXDtfNyYnW1mrocRoswlqLdJEhDb63NKRtbyh--nPOtZdJq0GhTfeLfEZjVnDg84a41LROeGrMSoFQ\",\\n               \"width\" : 2592\\n            }\\n         ],\\n         \"place_id\" : \"ChIJ92CvqK8WrjsRcsbN4R71TuE\",\\n         \"rating\" : 1,\\n         \"reference\" : \"ChIJ92CvqK8WrjsRcsbN4R71TuE\",\\n         \"scope\" : \"GOOGLE\",\\n         \"types\" : [ \"health\", \"point_of_interest\", \"establishment\" ],\\n         \"user_ratings_total\" : 1,\\n         \"vicinity\" : \"3, Cmhrd, Indiranagar, Indiranagar, Bengaluru\"\\n      },\\n      {\\n         \"business_status\" : \"OPERATIONAL\",\\n         \"geometry\" : {\\n            \"location\" : {\\n               \"lat\" : 13.0084558,\\n               \"lng\" : 77.69590629999999\\n            },\\n            \"viewport\" : {\\n               \"northeast\" : {\\n                  \"lat\" : 13.00981722989272,\\n                  \"lng\" : 77.69724962989272\\n               },\\n               \"southwest\" : {\\n                  \"lat\" : 13.00711757010728,\\n                  \"lng\" : 77.69454997010727\\n               }\\n            }\\n         },\\n         \"icon\" : \"https://maps.gstatic.com/mapfiles/place_api/icons/generic_business-71.png\",\\n         \"id\" : \"1b3b86fcafa6db3197f55afea1a279cc509a218e\",\\n         \"name\" : \"Precious Blood Massionaries Virgo Nagar\",\\n         \"place_id\" : \"ChIJ7aEVwZkRrjsR802B9RR1aYQ\",\\n         \"plus_code\" : {\\n            \"compound_code\" : \"2M5W+99 Krishnarajapura, Bengaluru, Karnataka\",\\n            \"global_code\" : \"7J5V2M5W+99\"\\n         },\\n         \"rating\" : 0,\\n         \"reference\" : \"ChIJ7aEVwZkRrjsR802B9RR1aYQ\",\\n         \"scope\" : \"GOOGLE\",\\n         \"types\" : [ \"health\", \"point_of_interest\", \"establishment\" ],\\n         \"user_ratings_total\" : 0,\\n         \"vicinity\" : \"NH75, Devasandra Extension, Krishnarajapura, Bengaluru\"\\n      },\\n      {\\n         \"business_status\" : \"OPERATIONAL\",\\n         \"geometry\" : {\\n            \"location\" : {\\n               \"lat\" : 13.010322,\\n               \"lng\" : 77.6716861\\n            },\\n            \"viewport\" : {\\n               \"northeast\" : {\\n                  \"lat\" : 13.01167227989272,\\n                  \"lng\" : 77.67304572989272\\n               },\\n               \"southwest\" : {\\n                  \"lat\" : 13.00897262010728,\\n                  \"lng\" : 77.67034607010727\\n               }\\n            }\\n         },\\n         \"icon\" : \"https://maps.gstatic.com/mapfiles/place_api/icons/generic_business-71.png\",\\n         \"id\" : \"f15ebd0020099064baa53f5c7aaa6ba1d8ad6d2c\",\\n         \"name\" : \"blooddonorsinfo.com\",\\n         \"opening_hours\" : {},\\n         \"place_id\" : \"ChIJPXT44iMRrjsRVbACjwu6yrk\",\\n         \"plus_code\" : {\\n            \"compound_code\" : \"2M6C+4M Bengaluru, Karnataka\",\\n            \"global_code\" : \"7J5V2M6C+4M\"\\n         },\\n         \"rating\" : 3.7,\\n         \"reference\" : \"ChIJPXT44iMRrjsRVbACjwu6yrk\",\\n         \"scope\" : \"GOOGLE\",\\n         \"types\" : [ \"health\", \"point_of_interest\", \"establishment\" ],\\n         \"user_ratings_total\" : 3,\\n         \"vicinity\" : \"33, Bhavani Street, 2nd Cross, Ram Murthy Nagar, Bengaluru\"\\n      }\\n   ],\\n   \"status\" : \"OK\"\\n}\\n'"
            ]
          },
          "metadata": {
            "tags": []
          },
          "execution_count": 16
        }
      ]
    },
    {
      "cell_type": "code",
      "metadata": {
        "id": "t_GCHq8l6L6g",
        "colab_type": "code",
        "colab": {}
      },
      "source": [
        ""
      ],
      "execution_count": 0,
      "outputs": []
    }
  ]
}